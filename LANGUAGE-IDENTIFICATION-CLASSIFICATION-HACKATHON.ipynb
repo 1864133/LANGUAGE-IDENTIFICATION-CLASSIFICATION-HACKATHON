{
 "cells": [
  {
   "cell_type": "markdown",
   "id": "75bead09",
   "metadata": {},
   "source": [
    "# EXPLORE Data Science Academy Classification Hackathon\n",
    "### Overview\n",
    "South Africa is a multicultural society that is characterised by its rich linguistic diversity. Language is an indispensable tool that can be used to deepen democracy and also contribute to the social, cultural, intellectual, economic and political life of the South African society.\n",
    "\n",
    "The country is multilingual with 11 official languages, each of which is guaranteed equal status. Most South Africans are multilingual and able to speak at least two or more of the official languages.\n",
    "From South African Government. With such a multilingual population, it is only obvious that our systems and devices also communicate in multi-languages.\n",
    "\n",
    "In this challenge, you will take text which is in any of South Africa's 11 Official languages and identify which language the text is in\n",
    "\n"
   ]
  },
  {
   "cell_type": "markdown",
   "id": "2dd7f90e",
   "metadata": {},
   "source": [
    "## Table of Contents\n",
    "\n",
    "<a href=#one>2. Importing Packages</a>\n",
    "\n",
    "<a href=#two>3. Importing The Data</a>\n",
    "\n",
    "<a href=#three>4. Exploratory Data Analysis (EDA)</a>\n",
    "\n",
    "<a href=#four>5. Data Engineering</a>\n",
    "\n",
    "<a href=#five>6. Modeling</a>\n",
    "\n",
    "<a href=#six>7. Model Performance</a>\n",
    "\n",
    "<a href=#seven>8. Model Explanations</a>\n",
    "\n",
    "<a href=#seven>9. Generating Submission File</a>\n",
    "\n",
    "<a href=#seven>10. References</a>"
   ]
  },
  {
   "cell_type": "markdown",
   "id": "d2437789",
   "metadata": {},
   "source": [
    "## 2. Importing Packages"
   ]
  },
  {
   "cell_type": "code",
   "execution_count": 56,
   "id": "2f1274b3",
   "metadata": {},
   "outputs": [],
   "source": [
    "import pickle\n",
    "\n",
    "# Libraries for data loading, data manipulation and data visulisation\n",
    "import numpy as np\n",
    "import pandas as pd\n",
    "import matplotlib.pyplot as plt\n",
    "import string\n",
    "\n",
    "# Settings to produce nice plots in a Jupyter notebook\n",
    "plt.style.use('fivethirtyeight')\n",
    "%matplotlib inline\n",
    "import seaborn as sns\n",
    "from wordcloud import WordCloud, STOPWORDS\n",
    "\n",
    "# Import library for train test split\n",
    "from sklearn.model_selection import train_test_split\n",
    "# Import Machine Learning algorithms\n",
    "from sklearn.tree import DecisionTreeClassifier\n",
    "from xgboost import XGBClassifier\n",
    "from sklearn.linear_model import LogisticRegression\n",
    "from sklearn.model_selection import GridSearchCV\n",
    "from sklearn.neural_network import MLPClassifier\n",
    "from sklearn.ensemble import RandomForestClassifier, AdaBoostClassifier, GradientBoostingClassifier\n",
    "from sklearn.model_selection import GridSearchCV, RandomizedSearchCV\n",
    "from sklearn.model_selection import StratifiedKFold, cross_val_score\n",
    "from sklearn.ensemble import VotingClassifier\n",
    "from sklearn.neighbors import KNeighborsClassifier\n",
    "from sklearn.mixture import GaussianMixture\n",
    "from sklearn.naive_bayes import GaussianNB\n",
    "from sklearn import metrics \n",
    "from sklearn.svm import SVC\n",
    "from sklearn.svm import LinearSVC\n",
    "from sklearn.metrics import classification_report, accuracy_score, confusion_matrix\n",
    "from sklearn.neural_network import MLPRegressor\n",
    "\n",
    "from sklearn.pipeline import Pipeline\n",
    "from sklearn.feature_extraction.text import CountVectorizer\n",
    "from sklearn.preprocessing import LabelEncoder\n",
    "\n",
    "# Import libraries for Natural Languge Processing\n",
    "import nltk\n",
    "import re\n",
    "from nltk.tokenize import word_tokenize\n",
    "from nltk.corpus import stopwords\n",
    "from nltk.tokenize import word_tokenize, TreebankWordTokenizer\n",
    "from sklearn.feature_extraction.text import TfidfVectorizer\n",
    "from nltk.stem import WordNetLemmatizer\n",
    "from nltk.stem import PorterStemmer"
   ]
  },
  {
   "cell_type": "markdown",
   "id": "1474df1b",
   "metadata": {},
   "source": [
    "<a id=\"two\"></a>\n",
    "## 3. Importing The Data"
   ]
  },
  {
   "cell_type": "code",
   "execution_count": 57,
   "id": "5a4a4fb1",
   "metadata": {},
   "outputs": [],
   "source": [
    "train= pd.read_csv(\"train_set.csv\")\n",
    "test= pd.read_csv(\"test_set.csv\")\n",
    "sample= pd.read_csv(\"sample_submission.csv\")"
   ]
  },
  {
   "cell_type": "markdown",
   "id": "4357eeba",
   "metadata": {},
   "source": [
    "<a id=\"three\"></a>\n",
    "## 4. Exploratory Data Analysis (EDA)"
   ]
  },
  {
   "cell_type": "code",
   "execution_count": 58,
   "id": "bbc12ea1",
   "metadata": {},
   "outputs": [
    {
     "data": {
      "text/html": [
       "<div>\n",
       "<style scoped>\n",
       "    .dataframe tbody tr th:only-of-type {\n",
       "        vertical-align: middle;\n",
       "    }\n",
       "\n",
       "    .dataframe tbody tr th {\n",
       "        vertical-align: top;\n",
       "    }\n",
       "\n",
       "    .dataframe thead th {\n",
       "        text-align: right;\n",
       "    }\n",
       "</style>\n",
       "<table border=\"1\" class=\"dataframe\">\n",
       "  <thead>\n",
       "    <tr style=\"text-align: right;\">\n",
       "      <th></th>\n",
       "      <th>lang_id</th>\n",
       "      <th>text</th>\n",
       "    </tr>\n",
       "  </thead>\n",
       "  <tbody>\n",
       "    <tr>\n",
       "      <th>0</th>\n",
       "      <td>xho</td>\n",
       "      <td>umgaqo-siseko wenza amalungiselelo kumaziko ax...</td>\n",
       "    </tr>\n",
       "    <tr>\n",
       "      <th>1</th>\n",
       "      <td>xho</td>\n",
       "      <td>i-dha iya kuba nobulumko bokubeka umsebenzi na...</td>\n",
       "    </tr>\n",
       "    <tr>\n",
       "      <th>2</th>\n",
       "      <td>eng</td>\n",
       "      <td>the province of kwazulu-natal department of tr...</td>\n",
       "    </tr>\n",
       "    <tr>\n",
       "      <th>3</th>\n",
       "      <td>nso</td>\n",
       "      <td>o netefatša gore o ba file dilo ka moka tše le...</td>\n",
       "    </tr>\n",
       "    <tr>\n",
       "      <th>4</th>\n",
       "      <td>ven</td>\n",
       "      <td>khomishini ya ndinganyiso ya mbeu yo ewa maana...</td>\n",
       "    </tr>\n",
       "  </tbody>\n",
       "</table>\n",
       "</div>"
      ],
      "text/plain": [
       "  lang_id                                               text\n",
       "0     xho  umgaqo-siseko wenza amalungiselelo kumaziko ax...\n",
       "1     xho  i-dha iya kuba nobulumko bokubeka umsebenzi na...\n",
       "2     eng  the province of kwazulu-natal department of tr...\n",
       "3     nso  o netefatša gore o ba file dilo ka moka tše le...\n",
       "4     ven  khomishini ya ndinganyiso ya mbeu yo ewa maana..."
      ]
     },
     "execution_count": 58,
     "metadata": {},
     "output_type": "execute_result"
    }
   ],
   "source": [
    "train.head()"
   ]
  },
  {
   "cell_type": "code",
   "execution_count": 59,
   "id": "4686f912",
   "metadata": {},
   "outputs": [
    {
     "name": "stdout",
     "output_type": "stream",
     "text": [
      "<class 'pandas.core.frame.DataFrame'>\n",
      "RangeIndex: 33000 entries, 0 to 32999\n",
      "Data columns (total 2 columns):\n",
      " #   Column   Non-Null Count  Dtype \n",
      "---  ------   --------------  ----- \n",
      " 0   lang_id  33000 non-null  object\n",
      " 1   text     33000 non-null  object\n",
      "dtypes: object(2)\n",
      "memory usage: 515.8+ KB\n"
     ]
    }
   ],
   "source": [
    "train.info()"
   ]
  },
  {
   "cell_type": "markdown",
   "id": "f1ecf0b2",
   "metadata": {},
   "source": [
    "Let's find unique languages and corresponding number of occurences"
   ]
  },
  {
   "cell_type": "code",
   "execution_count": 60,
   "id": "121bd3cf",
   "metadata": {},
   "outputs": [
    {
     "data": {
      "text/plain": [
       "xho    3000\n",
       "eng    3000\n",
       "nso    3000\n",
       "ven    3000\n",
       "tsn    3000\n",
       "nbl    3000\n",
       "zul    3000\n",
       "ssw    3000\n",
       "tso    3000\n",
       "sot    3000\n",
       "afr    3000\n",
       "Name: lang_id, dtype: int64"
      ]
     },
     "execution_count": 60,
     "metadata": {},
     "output_type": "execute_result"
    }
   ],
   "source": [
    "counts=train[\"lang_id\"].value_counts()\n",
    "x=counts.index\n",
    "y=counts.values\n",
    "counts"
   ]
  },
  {
   "cell_type": "code",
   "execution_count": 61,
   "id": "54eea06b",
   "metadata": {},
   "outputs": [
    {
     "data": {
      "image/png": "[encoded data removed]",
      "text/plain": [
       "<Figure size 432x288 with 1 Axes>"
      ]
     },
     "metadata": {
      "needs_background": "light"
     },
     "output_type": "display_data"
    }
   ],
   "source": [
    "plt.bar(x,y)\n",
    "plt.show()"
   ]
  },
  {
   "cell_type": "markdown",
   "id": "b1483f66",
   "metadata": {},
   "source": [
    "Our language is balanced and contains no error values"
   ]
  },
  {
   "cell_type": "markdown",
   "id": "c9ddf1c1",
   "metadata": {},
   "source": [
    "Text overview"
   ]
  },
  {
   "cell_type": "code",
   "execution_count": 62,
   "id": "6a105cb1",
   "metadata": {
    "scrolled": true
   },
   "outputs": [
    {
     "name": "stdout",
     "output_type": "stream",
     "text": [
      "xho\n",
      "['umgaqo-siseko wenza amalungiselelo kumaziko axhasa ulawulo lwesininzi kunye nokuthath inxaxheba kwabafazi ezi ziquka phakathi kwezinye zazo ikomishoni yokulingana ngokwesini ikomishoni yamalungelo oluntu lomzantsi afrika'\n",
      " 'i-dha iya kuba nobulumko bokubeka umsebenzi naphi na kwisebe ngokusekwe kwiimfuno zokusebenza zalo emva kokubonana nomsebenzi kunye okanye imanyano yakhe ukuba ulandulo lomntu onjalo alufanelekanga i-dha mayibize uncedo olufanelekileyo elungelweni layo']\n",
      "\n",
      "\n",
      "eng\n",
      "['the province of kwazulu-natal department of transport invites tenders from established contractors experienced in bridge construction for the construction of the kwajolwayo tugela river pedestrian bridge near tugela ferry the duration of the project will be months'\n",
      " 'if the post of accounting officer is vacant or if the accounting officer is unable to perform the functions of the post those functions must be performed by another official designated in writing by the executive authority']\n",
      "\n",
      "\n",
      "nso\n",
      "['o netefatša gore o ba file dilo ka moka tše le dumelelanego ka tšona mohlala maleri a magolo a a šomišwago go fihlelela meagong e metelele scaffolds a a bolokegilego lefelo la maleba la go šomela go phela gabotse bjbj'\n",
      " 'dinyakišišo tše tša go dirwa gabedi ka ngwaga di tla lebelela diphetogo tša mebaraka ya mešomo le mekgwa ga mmogo le go thapiwa mešomong ka makaleng ao mešomo ao lego molaong le ao a sego molaong le go hloka me omo']\n",
      "\n",
      "\n",
      "ven\n",
      "['khomishini ya ndinganyiso ya mbeu yo ewa maana u ya nga mulayo wa khomishini ya ndinganyiso ya mbeu u thetshelesa mbilaelo dzine dza tshimbilelana na tshialula u ya nga mbeu nahone i ivhea sa foramu ya thungo u ya nga mulayo wa ndinganyiso'\n",
      " 'mbadelo dze dza laelwa dzi do kwama mahatulele apo a khothe ya madzhisitirata lihoro line la si vhe na mulandu li do vha lone line la wana masheleni ngeno lihoro le la wanwa mulandu li tshi do vha lone line la tea u lifha ayo masheleni o laelwaho nga khothe']\n",
      "\n",
      "\n",
      "tsn\n",
      "['kgetse nngwe le nngwe e e sa faposiwang mo tshekong go ya ka temana ya a e tshwanetse kwa ntle ga fa kgetse e tsholotswe kgotsa e fetiseditswe kwa kgotlatshekelo ya bana ya fetisediwa kwa kgotlatshekelo ya bosiamisi ya ngwana gore a ikarabele mo tatofatsong le go sekiwa ga kgetse go ya ka kgaolo ya'\n",
      " 'fa le dirisiwa lebone le tshwanetse go bontsha lesedi le le benyabenyang le le bogale jo bo dirang gore le kgone go bonwa ke motho yo o bonang sentle mo leseding le le tlwaelegileng mo sekgaleng sa dimitara di le']\n",
      "\n",
      "\n",
      "nbl\n",
      "['lapho inarha yangeqadi ingenwe ngokungasimthetho begodu kunobujamo obukhethekileko umnikazi wenarha angaya kumasipala wendawo namkha nakutlhogekako emnyangweni wezezindlu ukufna irhelebho nayikuthi unobangela kufuna izindlu'\n",
      " 'isitifikhethi somtjhado esingakarhunyezwa namkha ukwenziwa butjha kwerejista efaneleko namkha omunye nomunye umtlolo osekelako ofakwa kurejista etjhiwoko ukhutjhwa nelwazi lokuqinisekisa elibuya erejisteni yomtjhado']\n",
      "\n",
      "\n",
      "zul\n",
      "['i-tip-offs anonymous wusizo locingo oluzimele futhi olutholakala ngazo zonke izikhathi olukuvumela ukuthi ubike noma yiziphi izenzo ezingalungile ezenzeka emsebenzi ngaphandle kokuthi udalulwe akekho umuntu ozokwazi uma kukhona oqwashise ngakho uhlala ungaziwa'\n",
      " 'noma yiliphi ilungu lombutho wezokuvikela elingazihluphi ukwazisa umphathisikhundla obekiwe ngekheli lalo kanye nokunye ukuguquka kwemininingwane njengoba kungahle kubekwe linecala futhi ekulahlweni yicala angakhokhiswa inhlawulo noma agqunywe ejele isikhathi esingedluli izinyanga eziyisithupha']\n",
      "\n",
      "\n",
      "ssw\n",
      "['tekulima lokufaka ekhatsi yonkhe imisebenti yetemnotfo levela kulokufakwa ngutekulima kulima kanye nekungeta kubaluleka kuyohlala kungumkhakha lobalulekile etikwemnotfo waseningizimu afrika nanome inemtselela lomncane kuyo yonkhe i-gross domestic product gdp'\n",
      " 'uma ngabe make ufaka sicelo sekuba namatisi bese ucala kusebentisa nobe ngusiphi sibongo bekatiwa ngaso ekucaleni ufanele aletse bufakazi baloko sibonelo ufanele aletse sitifiketi sekutalwa nobe semshado njengebufakazi bekutsi vele leso sibongo ngesakhe']\n",
      "\n",
      "\n",
      "tso\n",
      "['migingiriko ya cbnrm hinkwayo yi katsa ku tumbuluxiwa ka ntirhisano exikarhi ka vatirhi vo hambana ntirhisano leyi yi hi swivumbeko swo tala naswona yi tala ku va ni nkoka eka ku humelela kumbe ka migingiriko'\n",
      " 'u lava yini laha he mufana va xi vutisa hi afrikaans xi tin waya nhloko afrikaans a yi nga pfuki va va na tintswalo va xi vutisa hi xinghezi xi va byela leswaku a xi yimerile mashimbye va xi vutisa loko terekere leyi yi ri ya le stofkrag xi pfumela va yima va nga fambi']\n",
      "\n",
      "\n",
      "sot\n",
      "['ka ho mengwa lefapheng la lona diprofeshenale tsa tlhokomelo ya bophelo tsa gems di tla hloma sebaka sa diteko tsa bophelo bo botle lefapheng la lona basebetsi bohle ba leng moo ba tla kgona ho ya ka boithaopo tekolong ya bophelo bo botle letsatsi lohle'\n",
      " 'batho ba bangata ba hlwaya diphoso ho boraditaba bao ka nako e nngwe ba hlahisang tseo re sa batleng ho di kgothaletsa taba ya hore mapolesa a hlolehe ho qobella toka makgotla a dinyewe le ditshebeletso tsa tshokollo ya batshwaruwa kapa mmuso o tshwauwe phoso']\n",
      "\n",
      "\n",
      "afr\n",
      "['n persoon wat wil vasstel of hulle met miv geïnfekteer is kan na n kliniek of enige openbare gesondheidsfasiliteit gaan vir vrywillige toetsing en berading vtb vrywillig beteken dat die persoon self besluit om die toets te ondergaan niemand kan gedwing word om n miv-toets te ondergaan nie'\n",
      " 'gemeenskap van goedere - n manier om besittings in n huwelik te verdeel al die besittings geld en eiendom wat aan elke persoon behoort wanneer hulle trou en alles wat gedurende die huwelik versamel is word gedeel']\n",
      "\n",
      "\n"
     ]
    }
   ],
   "source": [
    "for lang in x:\n",
    "    print(lang)\n",
    "    print(train[train[\"lang_id\"]==lang][\"text\"].values[:2])\n",
    "    print('\\n')"
   ]
  },
  {
   "cell_type": "markdown",
   "id": "79de7d0e",
   "metadata": {},
   "source": [
    "The text column seem to be clean No major tranformations or cleaning required"
   ]
  },
  {
   "cell_type": "code",
   "execution_count": 63,
   "id": "d6f27e93",
   "metadata": {},
   "outputs": [],
   "source": [
    "puncs=list(string.punctuation)\n",
    "puncs=puncs+[\"ã\",\"¢\",\"â\",\"¬\",\"’\",\"‚\",\"¦\"]\n",
    "def remove_punctuation(message):\n",
    "    return ''.join([l for l in message if l not in puncs])\n",
    "\n",
    "\n",
    "def remove_numbers(message):\n",
    "    return ''.join([l for l in message if l.isnumeric()==False])"
   ]
  },
  {
   "cell_type": "markdown",
   "id": "77b02663",
   "metadata": {},
   "source": [
    "<a id=\"four\"></a>\n",
    "## 5. Data Engineering\n",
    "\n",
    "Since our response consists of text categories, we need to convert it to numerical values.\n",
    "\n",
    "For that issue, i will use sklearn label encoder"
   ]
  },
  {
   "cell_type": "code",
   "execution_count": 64,
   "id": "8698d9c4",
   "metadata": {},
   "outputs": [],
   "source": [
    "le = LabelEncoder()\n",
    "# Fit label encoder and return encoded labels\n",
    "y = le.fit_transform(train['lang_id'])"
   ]
  },
  {
   "cell_type": "code",
   "execution_count": 65,
   "id": "f25884f8",
   "metadata": {},
   "outputs": [],
   "source": [
    "train[\"code\"]=y"
   ]
  },
  {
   "cell_type": "code",
   "execution_count": 66,
   "id": "e7ae3750",
   "metadata": {},
   "outputs": [
    {
     "data": {
      "text/html": [
       "<div>\n",
       "<style scoped>\n",
       "    .dataframe tbody tr th:only-of-type {\n",
       "        vertical-align: middle;\n",
       "    }\n",
       "\n",
       "    .dataframe tbody tr th {\n",
       "        vertical-align: top;\n",
       "    }\n",
       "\n",
       "    .dataframe thead th {\n",
       "        text-align: right;\n",
       "    }\n",
       "</style>\n",
       "<table border=\"1\" class=\"dataframe\">\n",
       "  <thead>\n",
       "    <tr style=\"text-align: right;\">\n",
       "      <th></th>\n",
       "      <th>lang_id</th>\n",
       "      <th>text</th>\n",
       "      <th>code</th>\n",
       "    </tr>\n",
       "  </thead>\n",
       "  <tbody>\n",
       "    <tr>\n",
       "      <th>0</th>\n",
       "      <td>xho</td>\n",
       "      <td>umgaqo-siseko wenza amalungiselelo kumaziko ax...</td>\n",
       "      <td>9</td>\n",
       "    </tr>\n",
       "    <tr>\n",
       "      <th>1</th>\n",
       "      <td>xho</td>\n",
       "      <td>i-dha iya kuba nobulumko bokubeka umsebenzi na...</td>\n",
       "      <td>9</td>\n",
       "    </tr>\n",
       "    <tr>\n",
       "      <th>2</th>\n",
       "      <td>eng</td>\n",
       "      <td>the province of kwazulu-natal department of tr...</td>\n",
       "      <td>1</td>\n",
       "    </tr>\n",
       "    <tr>\n",
       "      <th>3</th>\n",
       "      <td>nso</td>\n",
       "      <td>o netefatša gore o ba file dilo ka moka tše le...</td>\n",
       "      <td>3</td>\n",
       "    </tr>\n",
       "    <tr>\n",
       "      <th>4</th>\n",
       "      <td>ven</td>\n",
       "      <td>khomishini ya ndinganyiso ya mbeu yo ewa maana...</td>\n",
       "      <td>8</td>\n",
       "    </tr>\n",
       "  </tbody>\n",
       "</table>\n",
       "</div>"
      ],
      "text/plain": [
       "  lang_id                                               text  code\n",
       "0     xho  umgaqo-siseko wenza amalungiselelo kumaziko ax...     9\n",
       "1     xho  i-dha iya kuba nobulumko bokubeka umsebenzi na...     9\n",
       "2     eng  the province of kwazulu-natal department of tr...     1\n",
       "3     nso  o netefatša gore o ba file dilo ka moka tše le...     3\n",
       "4     ven  khomishini ya ndinganyiso ya mbeu yo ewa maana...     8"
      ]
     },
     "execution_count": 66,
     "metadata": {},
     "output_type": "execute_result"
    }
   ],
   "source": [
    "train.head()"
   ]
  },
  {
   "cell_type": "code",
   "execution_count": 67,
   "id": "28bb79be",
   "metadata": {},
   "outputs": [],
   "source": [
    "### concatinating test and training set\n",
    "\n",
    "data=pd.concat([train, test])\n",
    "data.drop(columns=[\"index\"])\n",
    "data[\"text\"]=data[\"text\"].apply(remove_punctuation)\n",
    "data[\"text\"]=data[\"text\"].apply(remove_numbers)"
   ]
  },
  {
   "cell_type": "markdown",
   "id": "4cdd0f62",
   "metadata": {},
   "source": [
    "##### vectorisation"
   ]
  },
  {
   "cell_type": "code",
   "execution_count": 68,
   "id": "288979f8",
   "metadata": {},
   "outputs": [
    {
     "data": {
      "text/plain": [
       "(38682, 152634)"
      ]
     },
     "execution_count": 68,
     "metadata": {},
     "output_type": "execute_result"
    }
   ],
   "source": [
    "x=data[\"text\"]\n",
    "vectorizer = CountVectorizer()\n",
    "vectorizer.fit(x)\n",
    "X = vectorizer.fit_transform(x)\n",
    "X.shape"
   ]
  },
  {
   "cell_type": "markdown",
   "id": "6de64a9e",
   "metadata": {},
   "source": [
    "##### splitting data"
   ]
  },
  {
   "cell_type": "code",
   "execution_count": 69,
   "id": "5eebda03",
   "metadata": {},
   "outputs": [],
   "source": [
    "x_train=X[:33000]\n",
    "x_test=X[33000:]\n",
    "y_train=train[\"code\"].values\n",
    "\n",
    "### creating valuation data\n",
    "X_train, X_validation, Y_train, Y_validation = train_test_split(x_train, y_train, test_size=0.3, random_state=42)"
   ]
  },
  {
   "cell_type": "code",
   "execution_count": 70,
   "id": "9f0a6445",
   "metadata": {},
   "outputs": [
    {
     "data": {
      "text/plain": [
       "((23100, 152634), (9900, 152634), (23100,), (9900,))"
      ]
     },
     "execution_count": 70,
     "metadata": {},
     "output_type": "execute_result"
    }
   ],
   "source": [
    "X_train.shape, X_validation.shape, Y_train.shape, Y_validation.shape"
   ]
  },
  {
   "cell_type": "markdown",
   "id": "1ea7648a",
   "metadata": {},
   "source": [
    "Data now ready for modelling"
   ]
  },
  {
   "cell_type": "markdown",
   "id": "7802e23f",
   "metadata": {},
   "source": [
    "<a id=\"five\"></a>\n",
    "## 6. Modelling"
   ]
  },
  {
   "cell_type": "markdown",
   "id": "4fd14142",
   "metadata": {},
   "source": [
    "### Model 1: Logistic regression"
   ]
  },
  {
   "cell_type": "code",
   "execution_count": 71,
   "id": "b7b65fdb",
   "metadata": {},
   "outputs": [
    {
     "name": "stdout",
     "output_type": "stream",
     "text": [
      "              precision    recall  f1-score   support\n",
      "\n",
      "           0       1.00      1.00      1.00       895\n",
      "           1       1.00      1.00      1.00       909\n",
      "           2       0.99      0.99      0.99       879\n",
      "           3       1.00      1.00      1.00       941\n",
      "           4       1.00      1.00      1.00       918\n",
      "           5       1.00      0.99      1.00       908\n",
      "           6       1.00      1.00      1.00       882\n",
      "           7       1.00      1.00      1.00       857\n",
      "           8       1.00      1.00      1.00       936\n",
      "           9       0.99      0.99      0.99       922\n",
      "          10       0.98      0.98      0.98       853\n",
      "\n",
      "    accuracy                           1.00      9900\n",
      "   macro avg       1.00      1.00      1.00      9900\n",
      "weighted avg       1.00      1.00      1.00      9900\n",
      "\n"
     ]
    }
   ],
   "source": [
    "logreg = LogisticRegression(multi_class='ovr',solver = 'liblinear')\n",
    "logreg.fit(X_train, Y_train)\n",
    "lr_pred=logreg.predict(X_validation)\n",
    "print(classification_report(Y_validation, lr_pred))"
   ]
  },
  {
   "cell_type": "markdown",
   "id": "501e0a58",
   "metadata": {},
   "source": [
    "### Model 2: Multinomial Naive bayes"
   ]
  },
  {
   "cell_type": "code",
   "execution_count": 72,
   "id": "11c00629",
   "metadata": {
    "scrolled": false
   },
   "outputs": [
    {
     "name": "stdout",
     "output_type": "stream",
     "text": [
      "              precision    recall  f1-score   support\n",
      "\n",
      "           0       1.00      1.00      1.00       895\n",
      "           1       1.00      1.00      1.00       909\n",
      "           2       1.00      1.00      1.00       879\n",
      "           3       1.00      1.00      1.00       941\n",
      "           4       1.00      1.00      1.00       918\n",
      "           5       1.00      1.00      1.00       908\n",
      "           6       1.00      1.00      1.00       882\n",
      "           7       1.00      1.00      1.00       857\n",
      "           8       1.00      1.00      1.00       936\n",
      "           9       1.00      1.00      1.00       922\n",
      "          10       1.00      1.00      1.00       853\n",
      "\n",
      "    accuracy                           1.00      9900\n",
      "   macro avg       1.00      1.00      1.00      9900\n",
      "weighted avg       1.00      1.00      1.00      9900\n",
      "\n"
     ]
    }
   ],
   "source": [
    "from sklearn.naive_bayes import MultinomialNB\n",
    "nb = MultinomialNB()\n",
    "nb.fit(X_train, Y_train)\n",
    "y_pred_nb = nb.predict(X_validation)\n",
    "print(classification_report(Y_validation, y_pred_nb))"
   ]
  },
  {
   "cell_type": "markdown",
   "id": "69dced78",
   "metadata": {},
   "source": [
    "## Model 2: Random forest"
   ]
  },
  {
   "cell_type": "code",
   "execution_count": 87,
   "id": "bffd14f7",
   "metadata": {},
   "outputs": [
    {
     "name": "stderr",
     "output_type": "stream",
     "text": [
      "C:\\Users\\makat\\anaconda3\\lib\\site-packages\\sklearn\\linear_model\\_sag.py:328: ConvergenceWarning: The max_iter was reached which means the coef_ did not converge\n",
      "  warnings.warn(\"The max_iter was reached which means \"\n",
      "C:\\Users\\makat\\anaconda3\\lib\\site-packages\\sklearn\\linear_model\\_sag.py:328: ConvergenceWarning: The max_iter was reached which means the coef_ did not converge\n",
      "  warnings.warn(\"The max_iter was reached which means \"\n",
      "C:\\Users\\makat\\anaconda3\\lib\\site-packages\\sklearn\\linear_model\\_sag.py:328: ConvergenceWarning: The max_iter was reached which means the coef_ did not converge\n",
      "  warnings.warn(\"The max_iter was reached which means \"\n",
      "C:\\Users\\makat\\anaconda3\\lib\\site-packages\\sklearn\\linear_model\\_sag.py:328: ConvergenceWarning: The max_iter was reached which means the coef_ did not converge\n",
      "  warnings.warn(\"The max_iter was reached which means \"\n",
      "C:\\Users\\makat\\anaconda3\\lib\\site-packages\\sklearn\\linear_model\\_sag.py:328: ConvergenceWarning: The max_iter was reached which means the coef_ did not converge\n",
      "  warnings.warn(\"The max_iter was reached which means \"\n",
      "C:\\Users\\makat\\anaconda3\\lib\\site-packages\\sklearn\\linear_model\\_sag.py:328: ConvergenceWarning: The max_iter was reached which means the coef_ did not converge\n",
      "  warnings.warn(\"The max_iter was reached which means \"\n",
      "C:\\Users\\makat\\anaconda3\\lib\\site-packages\\sklearn\\linear_model\\_sag.py:328: ConvergenceWarning: The max_iter was reached which means the coef_ did not converge\n",
      "  warnings.warn(\"The max_iter was reached which means \"\n"
     ]
    },
    {
     "name": "stdout",
     "output_type": "stream",
     "text": [
      "              precision    recall  f1-score   support\n",
      "\n",
      "           0       1.00      1.00      1.00       895\n",
      "           1       1.00      1.00      1.00       909\n",
      "           2       0.99      0.99      0.99       879\n",
      "           3       1.00      1.00      1.00       941\n",
      "           4       1.00      1.00      1.00       918\n",
      "           5       1.00      0.99      1.00       908\n",
      "           6       1.00      1.00      1.00       882\n",
      "           7       1.00      1.00      1.00       857\n",
      "           8       1.00      1.00      1.00       936\n",
      "           9       0.99      0.99      0.99       922\n",
      "          10       0.98      0.98      0.98       853\n",
      "\n",
      "    accuracy                           0.99      9900\n",
      "   macro avg       0.99      0.99      0.99      9900\n",
      "weighted avg       0.99      0.99      0.99      9900\n",
      "\n"
     ]
    }
   ],
   "source": [
    "logreg = LogisticRegression(max_iter=2000,multi_class='ovr',solver = 'sag')\n",
    "logreg.fit(X_train, Y_train)\n",
    "lr_pred=logreg.predict(X_validation)\n",
    "print(classification_report(Y_validation, lr_pred))"
   ]
  },
  {
   "cell_type": "markdown",
   "id": "e7c2eace",
   "metadata": {},
   "source": [
    "### submission"
   ]
  },
  {
   "cell_type": "code",
   "execution_count": 85,
   "id": "31da5ea5",
   "metadata": {},
   "outputs": [],
   "source": [
    "y_pred = nb.predict(x_test)"
   ]
  },
  {
   "cell_type": "code",
   "execution_count": 77,
   "id": "8f955c9f",
   "metadata": {},
   "outputs": [],
   "source": [
    "lan_code=train.groupby([\"code\",\"lang_id\"]).count().index\n",
    "lan_codes=dict(list(lan_code))"
   ]
  },
  {
   "cell_type": "code",
   "execution_count": 78,
   "id": "67afa57a",
   "metadata": {
    "scrolled": true
   },
   "outputs": [],
   "source": [
    "def to_lan(code):\n",
    "    return lan_codes[code]"
   ]
  },
  {
   "cell_type": "code",
   "execution_count": 79,
   "id": "59090826",
   "metadata": {},
   "outputs": [],
   "source": [
    "\n",
    "final=pd.DataFrame(np.arange(1,5683),columns=[\"index\"])\n",
    "final[\"lang_id\"]=y_pred"
   ]
  },
  {
   "cell_type": "code",
   "execution_count": 80,
   "id": "142fa7f8",
   "metadata": {},
   "outputs": [],
   "source": [
    "final[\"lang_id\"]=final[\"lang_id\"].apply(to_lan)"
   ]
  },
  {
   "cell_type": "code",
   "execution_count": 81,
   "id": "043404fc",
   "metadata": {},
   "outputs": [
    {
     "data": {
      "text/html": [
       "<div>\n",
       "<style scoped>\n",
       "    .dataframe tbody tr th:only-of-type {\n",
       "        vertical-align: middle;\n",
       "    }\n",
       "\n",
       "    .dataframe tbody tr th {\n",
       "        vertical-align: top;\n",
       "    }\n",
       "\n",
       "    .dataframe thead th {\n",
       "        text-align: right;\n",
       "    }\n",
       "</style>\n",
       "<table border=\"1\" class=\"dataframe\">\n",
       "  <thead>\n",
       "    <tr style=\"text-align: right;\">\n",
       "      <th></th>\n",
       "      <th>index</th>\n",
       "      <th>lang_id</th>\n",
       "    </tr>\n",
       "  </thead>\n",
       "  <tbody>\n",
       "    <tr>\n",
       "      <th>0</th>\n",
       "      <td>1</td>\n",
       "      <td>ssw</td>\n",
       "    </tr>\n",
       "    <tr>\n",
       "      <th>1</th>\n",
       "      <td>2</td>\n",
       "      <td>nbl</td>\n",
       "    </tr>\n",
       "    <tr>\n",
       "      <th>2</th>\n",
       "      <td>3</td>\n",
       "      <td>xho</td>\n",
       "    </tr>\n",
       "    <tr>\n",
       "      <th>3</th>\n",
       "      <td>4</td>\n",
       "      <td>ssw</td>\n",
       "    </tr>\n",
       "    <tr>\n",
       "      <th>4</th>\n",
       "      <td>5</td>\n",
       "      <td>ssw</td>\n",
       "    </tr>\n",
       "    <tr>\n",
       "      <th>...</th>\n",
       "      <td>...</td>\n",
       "      <td>...</td>\n",
       "    </tr>\n",
       "    <tr>\n",
       "      <th>5677</th>\n",
       "      <td>5678</td>\n",
       "      <td>ssw</td>\n",
       "    </tr>\n",
       "    <tr>\n",
       "      <th>5678</th>\n",
       "      <td>5679</td>\n",
       "      <td>nso</td>\n",
       "    </tr>\n",
       "    <tr>\n",
       "      <th>5679</th>\n",
       "      <td>5680</td>\n",
       "      <td>sot</td>\n",
       "    </tr>\n",
       "    <tr>\n",
       "      <th>5680</th>\n",
       "      <td>5681</td>\n",
       "      <td>sot</td>\n",
       "    </tr>\n",
       "    <tr>\n",
       "      <th>5681</th>\n",
       "      <td>5682</td>\n",
       "      <td>zul</td>\n",
       "    </tr>\n",
       "  </tbody>\n",
       "</table>\n",
       "<p>5682 rows × 2 columns</p>\n",
       "</div>"
      ],
      "text/plain": [
       "      index lang_id\n",
       "0         1     ssw\n",
       "1         2     nbl\n",
       "2         3     xho\n",
       "3         4     ssw\n",
       "4         5     ssw\n",
       "...     ...     ...\n",
       "5677   5678     ssw\n",
       "5678   5679     nso\n",
       "5679   5680     sot\n",
       "5680   5681     sot\n",
       "5681   5682     zul\n",
       "\n",
       "[5682 rows x 2 columns]"
      ]
     },
     "execution_count": 81,
     "metadata": {},
     "output_type": "execute_result"
    }
   ],
   "source": [
    "final"
   ]
  },
  {
   "cell_type": "code",
   "execution_count": 82,
   "id": "dc0321ba",
   "metadata": {},
   "outputs": [],
   "source": [
    "final.to_csv(\"final.csv\", index=False)"
   ]
  },
  {
   "cell_type": "code",
   "execution_count": 83,
   "id": "5c1e28fe",
   "metadata": {},
   "outputs": [
    {
     "data": {
      "text/plain": [
       "{0: 'afr',\n",
       " 1: 'eng',\n",
       " 2: 'nbl',\n",
       " 3: 'nso',\n",
       " 4: 'sot',\n",
       " 5: 'ssw',\n",
       " 6: 'tsn',\n",
       " 7: 'tso',\n",
       " 8: 'ven',\n",
       " 9: 'xho',\n",
       " 10: 'zul'}"
      ]
     },
     "execution_count": 83,
     "metadata": {},
     "output_type": "execute_result"
    }
   ],
   "source": [
    "lan_codes"
   ]
  },
  {
   "cell_type": "code",
   "execution_count": 84,
   "id": "bfa73ef9",
   "metadata": {},
   "outputs": [],
   "source": [
    "data.to_csv(\"data.csv\", index=False)"
   ]
  },
  {
   "cell_type": "code",
   "execution_count": null,
   "id": "b956fe31",
   "metadata": {},
   "outputs": [],
   "source": []
  },
  {
   "cell_type": "code",
   "execution_count": null,
   "id": "8584c758",
   "metadata": {},
   "outputs": [],
   "source": []
  }
 ],
 "metadata": {
  "kernelspec": {
   "display_name": "Python 3 (ipykernel)",
   "language": "python",
   "name": "python3"
  },
  "language_info": {
   "codemirror_mode": {
    "name": "ipython",
    "version": 3
   },
   "file_extension": ".py",
   "mimetype": "text/x-python",
   "name": "python",
   "nbconvert_exporter": "python",
   "pygments_lexer": "ipython3",
   "version": "3.9.7"
  }
 },
 "nbformat": 4,
 "nbformat_minor": 5
}
